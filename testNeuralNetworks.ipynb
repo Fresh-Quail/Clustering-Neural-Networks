{
 "cells": [
  {
   "cell_type": "code",
   "execution_count": 1,
   "id": "b0c40f38",
   "metadata": {},
   "outputs": [],
   "source": [
    "using DataFrames\n",
    "using Plots\n",
    "using CSV\n",
    "using Statistics\n",
    "using LinearAlgebra"
   ]
  },
  {
   "cell_type": "code",
   "execution_count": 2,
   "id": "573e41a5",
   "metadata": {},
   "outputs": [
    {
     "data": {
      "text/plain": [
       "gradient (generic function with 1 method)"
      ]
     },
     "execution_count": 2,
     "metadata": {},
     "output_type": "execute_result"
    }
   ],
   "source": [
    "# Makes a new column denoting the class as an integer\n",
    "function makeClasses(string)\n",
    "    if string == \"Iris-setosa\"\n",
    "        return nothing\n",
    "    elseif string == \"Iris-versicolor\"\n",
    "        return 0\n",
    "    else\n",
    "        return 1\n",
    "    end\n",
    "end\n",
    "\n",
    "function sigmoid(z, bias)\n",
    "    # z equivalent to w_1 * x_1 ...\n",
    "    # the bias is w_o\n",
    "    return (1.0 / (1.0 + exp(-(bias[1] + z[1]))))\n",
    "end\n",
    "\n",
    "# Computes the gradient over all samples for a given weight using MSEx\n",
    "function gradient(z, bias, sample, class, n)\n",
    "    return -(2.0 * sample[1] * exp(-(bias[1] + z[1])) * (class[1] - sigmoid(z, bias))) / (n * (sigmoid(z, bias)[1])^2)\n",
    "end"
   ]
  },
  {
   "cell_type": "code",
   "execution_count": 3,
   "id": "106bece8",
   "metadata": {},
   "outputs": [
    {
     "data": {
      "text/plain": [
       "mean_squared_error (generic function with 1 method)"
      ]
     },
     "execution_count": 3,
     "metadata": {},
     "output_type": "execute_result"
    }
   ],
   "source": [
    "# Part A\n",
    "function activation(x)\n",
    "    if x < 0.5\n",
    "        return 0\n",
    "    else return 1\n",
    "    end\n",
    "end\n",
    "# Takes the arguments:\n",
    "# Data vectors, parameters, and classes, where each vector is a sample\n",
    "# the first value of the parameter should be the bias\n",
    "function mean_squared_error(data_vectors, weights, classes)\n",
    "    meansq = 0\n",
    "    for i in 1:100\n",
    "        # Computes the predicted response using the input feature dot the weights and bias term\n",
    "        predicted = activation(sigmoid(data_vectors[i]' * weights[2:3], weights[1]))\n",
    "        \n",
    "        meansq += (classes[i] - predicted[1])^2\n",
    "    end\n",
    "    return (meansq/100)\n",
    "end\n"
   ]
  },
  {
   "cell_type": "code",
   "execution_count": 4,
   "id": "046dec4c",
   "metadata": {},
   "outputs": [
    {
     "data": {
      "text/plain": [
       "sumGradients (generic function with 1 method)"
      ]
     },
     "execution_count": 4,
     "metadata": {},
     "output_type": "execute_result"
    }
   ],
   "source": [
    "# Part E\n",
    "# Computes the summed gradient for an ensemble of patterns\n",
    "function sumGradients(dataframe_rows, weights, classes)\n",
    "    gradients = Array{Float64}(undef, 5)\n",
    "    gradients[1] = 0\n",
    "    gradients[2] = 0\n",
    "    gradients[3] = 0\n",
    "    # For all of the given data vectors (samples)\n",
    "    # We sum up the gradient for each respective weight\n",
    "    for i in 1:size(dataframe_rows)[1]\n",
    "        data_vector = collect(dataframe_rows[i, :])\n",
    "        gradients[1] += gradient(data_vector' * weights[2:3], weights[1], [0], classes[i], 100)[1]\n",
    "        gradients[2] += gradient(data_vector' * weights[2:3], weights[1], data_vector[1], classes[i], 100)[1]\n",
    "        gradients[3] += gradient(data_vector' * weights[2:3], weights[1], data_vector[2], classes[i], 100)[1]\n",
    "    end\n",
    "    return gradients\n",
    "end"
   ]
  },
  {
   "cell_type": "code",
   "execution_count": 5,
   "id": "b33200bc",
   "metadata": {},
   "outputs": [
    {
     "data": {
      "text/plain": [
       "gradientDescent (generic function with 1 method)"
      ]
     },
     "execution_count": 5,
     "metadata": {},
     "output_type": "execute_result"
    }
   ],
   "source": [
    "# Gradient descent\n",
    "# Calculates the gradient for each weight using the sum across all samples\n",
    "function gradientDescent(dataframe_rows, weights, classes, stepsize, iterations)\n",
    "    gradients = sumGradients(dataframe_rows, weights, classes)\n",
    "\n",
    "    w1 = gradients[1]\n",
    "    w2 = gradients[2]\n",
    "    w3 = gradients[3]\n",
    "    n = 0\n",
    "    \n",
    "    w = [w1, w2, w3]\n",
    "    while (n < iterations)\n",
    "\n",
    "        #Assigns the new ones\n",
    "        w1 = w1 - stepsize * gradients[1]\n",
    "        w2 = w2 - stepsize * gradients[2]\n",
    "        w3 = w3 - stepsize * gradients[3]\n",
    "        n += 1\n",
    "        w = [w1, w2, w3]\n",
    "        \n",
    "        gradients = sumGradients(dataframe_rows, w, classes)\n",
    "    end\n",
    "    return w\n",
    "end"
   ]
  },
  {
   "cell_type": "code",
   "execution_count": 6,
   "id": "d1e6c41c",
   "metadata": {},
   "outputs": [
    {
     "data": {
      "text/plain": [
       "line (generic function with 1 method)"
      ]
     },
     "execution_count": 6,
     "metadata": {},
     "output_type": "execute_result"
    }
   ],
   "source": [
    "# Creates the line for the decision boundary\n",
    "function line(weights)\n",
    "    y_intercept = -1 * (weights[1] / weights[3])\n",
    "    slope = -1 * (weights[2] / weights[3])\n",
    "    return line(x) = slope * x + y_intercept\n",
    "end"
   ]
  },
  {
   "cell_type": "code",
   "execution_count": null,
   "id": "bdc07d80",
   "metadata": {},
   "outputs": [],
   "source": [
    "df = CSV.read(\"iris.csv\", DataFrame)\n",
    "transform!(df, [:species] => ByRow(makeClasses) => :class)"
   ]
  },
  {
   "cell_type": "code",
   "execution_count": null,
   "id": "89a99458",
   "metadata": {},
   "outputs": [],
   "source": [
    "# Part B\n",
    "weights1 = (Float64)[0, 1, 2]\n",
    "println(\"Mean Squared error for $weights1 - Large error:\")\n",
    "\n",
    "println(mean_squared_error([collect(row) for row in eachrow(df[51:150, 3:4])], weights1, collect(df[51:150, :class])))\n",
    "\n",
    "# Finding the decision bound for Large MSE\n",
    "# For a weight of one mean_squared\n",
    "irisplot = scatter(df[51:100, 3], df[51:150, 4], color=\"green\", xlabel=\"Petal Length\", ylabel=\"Petal Width\", label=\"Class 0\", title=\"Iris Set: Neural Networks\")\n",
    "scatter!(irisplot, df[101:150, 3], df[101:150, 4], color=\"orange\", xlabel=\"Petal Length\", ylabel=\"Petal Width\", label=\"Class 1\", title=\"Iris Set: Neural Networks\")\n",
    "plot!(irisplot, line(weights1), 2.5, 7, label=\"Large MSE\")"
   ]
  },
  {
   "cell_type": "code",
   "execution_count": null,
   "id": "a6eb836c",
   "metadata": {},
   "outputs": [],
   "source": [
    "weights2 = [-0.8, -0.03, 0.62]\n",
    "println(\"Mean Squared error for weights $weights2 - Small error: \", mean_squared_error([collect(row) for row in eachrow(df[51:150, 3:4])], weights2, collect(df[51:150, :class])))\n",
    "\n",
    "irisplot = scatter(df[51:100, 3], df[51:150, 4], color=\"green\", xlabel=\"Petal Length\", ylabel=\"Petal Width\", label=\"Class 0\", title=\"Iris Set: Neural Networks\")\n",
    "scatter!(irisplot, df[101:150, 3], df[101:150, 4], color=\"orange\", xlabel=\"Petal Length\", ylabel=\"Petal Width\", label=\"Class 1\", title=\"Iris Set: Neural Networks\")\n",
    "plot!(irisplot, line(weights2), 2.5, 7, label=\"Small MSE\")"
   ]
  },
  {
   "cell_type": "code",
   "execution_count": null,
   "id": "610e37be",
   "metadata": {},
   "outputs": [],
   "source": [
    "# Computes the summed gradient for an ensemble of patterns, with small step size\n",
    "println(\"Using a small step size, 0.00001, this is how the boundary changes for one iteration\")\n",
    "classes = collect(df[51:150, :class])\n",
    "dataframe_rows = df[51:150, 3:4]\n",
    "weights2 = gradientDescent(dataframe_rows, weights2, classes, 0.0001, 1)\n",
    "\n",
    "println(weights2)\n",
    "println(\"Mean Squared error for weights $weights2 - Small error: \", mean_squared_error([collect(row) for row in eachrow(df[51:150, 3:4])], weights2, collect(df[51:150, :class])))\n",
    "\n",
    "scatter(df[51:100, 3], df[51:150, 4], color=\"green\", xlabel=\"Petal Length\", ylabel=\"Petal Width\", label=\"Class 0\", title=\"Iris Set: Neural Networks\")\n",
    "scatter!(df[101:150, 3], df[101:150, 4], color=\"orange\", xlabel=\"Petal Length\", ylabel=\"Petal Width\", label=\"Class 1\", title=\"Iris Set: Neural Networks\")\n",
    "plot!(line(weights2), 2.5, 7, label=\"Small MSE\")"
   ]
  },
  {
   "cell_type": "code",
   "execution_count": null,
   "id": "8ae4909d",
   "metadata": {},
   "outputs": [],
   "source": [
    "println(\"This is how it changes for several iterations\")\n",
    "\n",
    "weights2 = gradientDescent(dataframe_rows, weights2, classes, 0.0001, 50)\n",
    "\n",
    "irisplot = scatter(df[51:100, 3], df[51:150, 4], color=\"green\", xlabel=\"Petal Length\", ylabel=\"Petal Width\", label=\"Class 0\", title=\"Iris Set: Neural Networks\")\n",
    "scatter!(irisplot, df[101:150, 3], df[101:150, 4], color=\"orange\", xlabel=\"Petal Length\", ylabel=\"Petal Width\", label=\"Class 1\", title=\"Iris Set: Neural Networks\")\n",
    "plot!(irisplot, line(weights2), 2.5, 7, label=\"Small MSE\")"
   ]
  },
  {
   "cell_type": "code",
   "execution_count": null,
   "id": "f7191872",
   "metadata": {},
   "outputs": [],
   "source": [
    "println(\"This is how it changes for many iterations\")\n",
    "\n",
    "weights2 = gradientDescent(dataframe_rows, weights2, classes, 0.0001, 99999)\n",
    "\n",
    "irisplot = scatter(df[51:100, 3], df[51:150, 4], color=\"green\", xlabel=\"Petal Length\", ylabel=\"Petal Width\", label=\"Class 0\", title=\"Iris Set: Neural Networks\")\n",
    "scatter!(irisplot, df[101:150, 3], df[101:150, 4], color=\"orange\", xlabel=\"Petal Length\", ylabel=\"Petal Width\", label=\"Class 1\", title=\"Iris Set: Neural Networks\")\n",
    "plot!(irisplot, line(weights2), 2.5, 7, label=\"Small MSE\")"
   ]
  }
 ],
 "metadata": {
  "kernelspec": {
   "display_name": "Julia 1.8.5",
   "language": "julia",
   "name": "julia-1.8"
  },
  "language_info": {
   "file_extension": ".jl",
   "mimetype": "application/julia",
   "name": "julia",
   "version": "1.8.5"
  }
 },
 "nbformat": 4,
 "nbformat_minor": 5
}
